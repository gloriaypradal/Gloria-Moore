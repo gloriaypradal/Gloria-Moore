{
  "nbformat": 4,
  "nbformat_minor": 0,
  "metadata": {
    "colab": {
      "name": "Audits_ATV1.ipynb",
      "provenance": [],
      "collapsed_sections": [],
      "authorship_tag": "ABX9TyOzx2tPYQiA7RpfmEZSpvxH",
      "include_colab_link": true
    },
    "kernelspec": {
      "name": "python3",
      "display_name": "Python 3"
    },
    "language_info": {
      "name": "python"
    }
  },
  "cells": [
    {
      "cell_type": "markdown",
      "metadata": {
        "id": "view-in-github",
        "colab_type": "text"
      },
      "source": [
        "<a href=\"https://colab.research.google.com/github/gloriaypradal/Gloria-Moore/blob/main/Audits_ATV1.ipynb\" target=\"_parent\"><img src=\"https://colab.research.google.com/assets/colab-badge.svg\" alt=\"Open In Colab\"/></a>"
      ]
    },
    {
      "cell_type": "code",
      "execution_count": null,
      "metadata": {
        "id": "VJahRJ_vxhRW"
      },
      "outputs": [],
      "source": [
        "import pandas as pd\n",
        "import matplotlib.pyplot as plt\n",
        "import numpy as np"
      ]
    },
    {
      "cell_type": "code",
      "source": [
        "data=pd.read_csv(\"audits.csv\")"
      ],
      "metadata": {
        "id": "tR0Bwtg9yAQI"
      },
      "execution_count": null,
      "outputs": []
    },
    {
      "cell_type": "code",
      "source": [
        "data.head()"
      ],
      "metadata": {
        "colab": {
          "base_uri": "https://localhost:8080/",
          "height": 354
        },
        "id": "FNHPhN7MyHIC",
        "outputId": "82490bc5-3cc0-4897-fba3-1ae176d81a0e"
      },
      "execution_count": null,
      "outputs": [
        {
          "output_type": "execute_result",
          "data": {
            "text/plain": [
              "        TimeStamp LineName      Inspector 1. What model?  \\\n",
              "0  1/3/2022 11:25     ATV1  Michael Shoup   RFT00A/B/C/D   \n",
              "1  1/3/2022 11:49     ATV1  Michael Shoup   RFT00A/B/C/D   \n",
              "2  1/3/2022 13:39     ATV1  Michael Shoup   RFT00A/B/C/D   \n",
              "3  1/4/2022 13:20     ATV1  Michael Shoup   RFT00A/B/C/D   \n",
              "4  1/4/2022 13:20     ATV1  Michael Shoup   RFT00A/B/C/D   \n",
              "\n",
              "                                           2. Defect  \\\n",
              "0  Rivets for rubber mat cover for master cylinde...   \n",
              "1                 Control lever set too low n guide.   \n",
              "2                      Left side of hood was warped.   \n",
              "3                             Left door screw loose.   \n",
              "4  Coolant clamp at thermostat was over the stopper.   \n",
              "\n",
              "  3. Responsible Work Station  4. Quantity Bad     5. Defect Code  \\\n",
              "0                        A07L                1        Loose Parts   \n",
              "1                        A11L                1  Incorrect Process   \n",
              "2                        A24R                1       Vendor Issue   \n",
              "3                        A26L                1        Loose Parts   \n",
              "4                        A04R                1  Incorrect Process   \n",
              "\n",
              "         6. Who Notified? 7. Units checked 8. Countermeasure  9. Comments  \n",
              "0  Production Team Leader     Before/After             Fixed          NaN  \n",
              "1  Production Team Leader     Before/After             Fixed          NaN  \n",
              "2  Production Team Leader     Before/After          Replaced          NaN  \n",
              "3  Production Team Leader     Before/After             Fixed          NaN  \n",
              "4  Production Team Leader     Before/After             Fixed          NaN  "
            ],
            "text/html": [
              "\n",
              "  <div id=\"df-a8cd3b18-fce1-49a8-b13f-594563c13885\">\n",
              "    <div class=\"colab-df-container\">\n",
              "      <div>\n",
              "<style scoped>\n",
              "    .dataframe tbody tr th:only-of-type {\n",
              "        vertical-align: middle;\n",
              "    }\n",
              "\n",
              "    .dataframe tbody tr th {\n",
              "        vertical-align: top;\n",
              "    }\n",
              "\n",
              "    .dataframe thead th {\n",
              "        text-align: right;\n",
              "    }\n",
              "</style>\n",
              "<table border=\"1\" class=\"dataframe\">\n",
              "  <thead>\n",
              "    <tr style=\"text-align: right;\">\n",
              "      <th></th>\n",
              "      <th>TimeStamp</th>\n",
              "      <th>LineName</th>\n",
              "      <th>Inspector</th>\n",
              "      <th>1. What model?</th>\n",
              "      <th>2. Defect</th>\n",
              "      <th>3. Responsible Work Station</th>\n",
              "      <th>4. Quantity Bad</th>\n",
              "      <th>5. Defect Code</th>\n",
              "      <th>6. Who Notified?</th>\n",
              "      <th>7. Units checked</th>\n",
              "      <th>8. Countermeasure</th>\n",
              "      <th>9. Comments</th>\n",
              "    </tr>\n",
              "  </thead>\n",
              "  <tbody>\n",
              "    <tr>\n",
              "      <th>0</th>\n",
              "      <td>1/3/2022 11:25</td>\n",
              "      <td>ATV1</td>\n",
              "      <td>Michael Shoup</td>\n",
              "      <td>RFT00A/B/C/D</td>\n",
              "      <td>Rivets for rubber mat cover for master cylinde...</td>\n",
              "      <td>A07L</td>\n",
              "      <td>1</td>\n",
              "      <td>Loose Parts</td>\n",
              "      <td>Production Team Leader</td>\n",
              "      <td>Before/After</td>\n",
              "      <td>Fixed</td>\n",
              "      <td>NaN</td>\n",
              "    </tr>\n",
              "    <tr>\n",
              "      <th>1</th>\n",
              "      <td>1/3/2022 11:49</td>\n",
              "      <td>ATV1</td>\n",
              "      <td>Michael Shoup</td>\n",
              "      <td>RFT00A/B/C/D</td>\n",
              "      <td>Control lever set too low n guide.</td>\n",
              "      <td>A11L</td>\n",
              "      <td>1</td>\n",
              "      <td>Incorrect Process</td>\n",
              "      <td>Production Team Leader</td>\n",
              "      <td>Before/After</td>\n",
              "      <td>Fixed</td>\n",
              "      <td>NaN</td>\n",
              "    </tr>\n",
              "    <tr>\n",
              "      <th>2</th>\n",
              "      <td>1/3/2022 13:39</td>\n",
              "      <td>ATV1</td>\n",
              "      <td>Michael Shoup</td>\n",
              "      <td>RFT00A/B/C/D</td>\n",
              "      <td>Left side of hood was warped.</td>\n",
              "      <td>A24R</td>\n",
              "      <td>1</td>\n",
              "      <td>Vendor Issue</td>\n",
              "      <td>Production Team Leader</td>\n",
              "      <td>Before/After</td>\n",
              "      <td>Replaced</td>\n",
              "      <td>NaN</td>\n",
              "    </tr>\n",
              "    <tr>\n",
              "      <th>3</th>\n",
              "      <td>1/4/2022 13:20</td>\n",
              "      <td>ATV1</td>\n",
              "      <td>Michael Shoup</td>\n",
              "      <td>RFT00A/B/C/D</td>\n",
              "      <td>Left door screw loose.</td>\n",
              "      <td>A26L</td>\n",
              "      <td>1</td>\n",
              "      <td>Loose Parts</td>\n",
              "      <td>Production Team Leader</td>\n",
              "      <td>Before/After</td>\n",
              "      <td>Fixed</td>\n",
              "      <td>NaN</td>\n",
              "    </tr>\n",
              "    <tr>\n",
              "      <th>4</th>\n",
              "      <td>1/4/2022 13:20</td>\n",
              "      <td>ATV1</td>\n",
              "      <td>Michael Shoup</td>\n",
              "      <td>RFT00A/B/C/D</td>\n",
              "      <td>Coolant clamp at thermostat was over the stopper.</td>\n",
              "      <td>A04R</td>\n",
              "      <td>1</td>\n",
              "      <td>Incorrect Process</td>\n",
              "      <td>Production Team Leader</td>\n",
              "      <td>Before/After</td>\n",
              "      <td>Fixed</td>\n",
              "      <td>NaN</td>\n",
              "    </tr>\n",
              "  </tbody>\n",
              "</table>\n",
              "</div>\n",
              "      <button class=\"colab-df-convert\" onclick=\"convertToInteractive('df-a8cd3b18-fce1-49a8-b13f-594563c13885')\"\n",
              "              title=\"Convert this dataframe to an interactive table.\"\n",
              "              style=\"display:none;\">\n",
              "        \n",
              "  <svg xmlns=\"http://www.w3.org/2000/svg\" height=\"24px\"viewBox=\"0 0 24 24\"\n",
              "       width=\"24px\">\n",
              "    <path d=\"M0 0h24v24H0V0z\" fill=\"none\"/>\n",
              "    <path d=\"M18.56 5.44l.94 2.06.94-2.06 2.06-.94-2.06-.94-.94-2.06-.94 2.06-2.06.94zm-11 1L8.5 8.5l.94-2.06 2.06-.94-2.06-.94L8.5 2.5l-.94 2.06-2.06.94zm10 10l.94 2.06.94-2.06 2.06-.94-2.06-.94-.94-2.06-.94 2.06-2.06.94z\"/><path d=\"M17.41 7.96l-1.37-1.37c-.4-.4-.92-.59-1.43-.59-.52 0-1.04.2-1.43.59L10.3 9.45l-7.72 7.72c-.78.78-.78 2.05 0 2.83L4 21.41c.39.39.9.59 1.41.59.51 0 1.02-.2 1.41-.59l7.78-7.78 2.81-2.81c.8-.78.8-2.07 0-2.86zM5.41 20L4 18.59l7.72-7.72 1.47 1.35L5.41 20z\"/>\n",
              "  </svg>\n",
              "      </button>\n",
              "      \n",
              "  <style>\n",
              "    .colab-df-container {\n",
              "      display:flex;\n",
              "      flex-wrap:wrap;\n",
              "      gap: 12px;\n",
              "    }\n",
              "\n",
              "    .colab-df-convert {\n",
              "      background-color: #E8F0FE;\n",
              "      border: none;\n",
              "      border-radius: 50%;\n",
              "      cursor: pointer;\n",
              "      display: none;\n",
              "      fill: #1967D2;\n",
              "      height: 32px;\n",
              "      padding: 0 0 0 0;\n",
              "      width: 32px;\n",
              "    }\n",
              "\n",
              "    .colab-df-convert:hover {\n",
              "      background-color: #E2EBFA;\n",
              "      box-shadow: 0px 1px 2px rgba(60, 64, 67, 0.3), 0px 1px 3px 1px rgba(60, 64, 67, 0.15);\n",
              "      fill: #174EA6;\n",
              "    }\n",
              "\n",
              "    [theme=dark] .colab-df-convert {\n",
              "      background-color: #3B4455;\n",
              "      fill: #D2E3FC;\n",
              "    }\n",
              "\n",
              "    [theme=dark] .colab-df-convert:hover {\n",
              "      background-color: #434B5C;\n",
              "      box-shadow: 0px 1px 3px 1px rgba(0, 0, 0, 0.15);\n",
              "      filter: drop-shadow(0px 1px 2px rgba(0, 0, 0, 0.3));\n",
              "      fill: #FFFFFF;\n",
              "    }\n",
              "  </style>\n",
              "\n",
              "      <script>\n",
              "        const buttonEl =\n",
              "          document.querySelector('#df-a8cd3b18-fce1-49a8-b13f-594563c13885 button.colab-df-convert');\n",
              "        buttonEl.style.display =\n",
              "          google.colab.kernel.accessAllowed ? 'block' : 'none';\n",
              "\n",
              "        async function convertToInteractive(key) {\n",
              "          const element = document.querySelector('#df-a8cd3b18-fce1-49a8-b13f-594563c13885');\n",
              "          const dataTable =\n",
              "            await google.colab.kernel.invokeFunction('convertToInteractive',\n",
              "                                                     [key], {});\n",
              "          if (!dataTable) return;\n",
              "\n",
              "          const docLinkHtml = 'Like what you see? Visit the ' +\n",
              "            '<a target=\"_blank\" href=https://colab.research.google.com/notebooks/data_table.ipynb>data table notebook</a>'\n",
              "            + ' to learn more about interactive tables.';\n",
              "          element.innerHTML = '';\n",
              "          dataTable['output_type'] = 'display_data';\n",
              "          await google.colab.output.renderOutput(dataTable, element);\n",
              "          const docLink = document.createElement('div');\n",
              "          docLink.innerHTML = docLinkHtml;\n",
              "          element.appendChild(docLink);\n",
              "        }\n",
              "      </script>\n",
              "    </div>\n",
              "  </div>\n",
              "  "
            ]
          },
          "metadata": {},
          "execution_count": 3
        }
      ]
    },
    {
      "cell_type": "code",
      "source": [
        "data.describe(include=\"O\")"
      ],
      "metadata": {
        "colab": {
          "base_uri": "https://localhost:8080/",
          "height": 175
        },
        "id": "FYlL_J0QyVQm",
        "outputId": "59d14e2d-552a-4693-da8e-686b297e7007"
      },
      "execution_count": null,
      "outputs": [
        {
          "output_type": "execute_result",
          "data": {
            "text/plain": [
              "             TimeStamp LineName      Inspector 1. What model?  \\\n",
              "count              233      233            233            233   \n",
              "unique             224        1              4              2   \n",
              "top     1/4/2022 13:20     ATV1  Michael Shoup   RFT00A/B/C/D   \n",
              "freq                 3      233            191            232   \n",
              "\n",
              "                 2. Defect 3. Responsible Work Station     5. Defect Code  \\\n",
              "count                  233                         231                233   \n",
              "unique                 223                          79                  9   \n",
              "top     Bubbles in decals.                        A26L  Incorrect Process   \n",
              "freq                     6                          14                103   \n",
              "\n",
              "              6. Who Notified? 7. Units checked 8. Countermeasure  \n",
              "count                      233              231               231  \n",
              "unique                      10                3                32  \n",
              "top     Production Team Leader     Before/After             Fixed  \n",
              "freq                       168              229               161  "
            ],
            "text/html": [
              "\n",
              "  <div id=\"df-10616bf1-c0c4-473c-ba6e-1a7917efb2db\">\n",
              "    <div class=\"colab-df-container\">\n",
              "      <div>\n",
              "<style scoped>\n",
              "    .dataframe tbody tr th:only-of-type {\n",
              "        vertical-align: middle;\n",
              "    }\n",
              "\n",
              "    .dataframe tbody tr th {\n",
              "        vertical-align: top;\n",
              "    }\n",
              "\n",
              "    .dataframe thead th {\n",
              "        text-align: right;\n",
              "    }\n",
              "</style>\n",
              "<table border=\"1\" class=\"dataframe\">\n",
              "  <thead>\n",
              "    <tr style=\"text-align: right;\">\n",
              "      <th></th>\n",
              "      <th>TimeStamp</th>\n",
              "      <th>LineName</th>\n",
              "      <th>Inspector</th>\n",
              "      <th>1. What model?</th>\n",
              "      <th>2. Defect</th>\n",
              "      <th>3. Responsible Work Station</th>\n",
              "      <th>5. Defect Code</th>\n",
              "      <th>6. Who Notified?</th>\n",
              "      <th>7. Units checked</th>\n",
              "      <th>8. Countermeasure</th>\n",
              "    </tr>\n",
              "  </thead>\n",
              "  <tbody>\n",
              "    <tr>\n",
              "      <th>count</th>\n",
              "      <td>233</td>\n",
              "      <td>233</td>\n",
              "      <td>233</td>\n",
              "      <td>233</td>\n",
              "      <td>233</td>\n",
              "      <td>231</td>\n",
              "      <td>233</td>\n",
              "      <td>233</td>\n",
              "      <td>231</td>\n",
              "      <td>231</td>\n",
              "    </tr>\n",
              "    <tr>\n",
              "      <th>unique</th>\n",
              "      <td>224</td>\n",
              "      <td>1</td>\n",
              "      <td>4</td>\n",
              "      <td>2</td>\n",
              "      <td>223</td>\n",
              "      <td>79</td>\n",
              "      <td>9</td>\n",
              "      <td>10</td>\n",
              "      <td>3</td>\n",
              "      <td>32</td>\n",
              "    </tr>\n",
              "    <tr>\n",
              "      <th>top</th>\n",
              "      <td>1/4/2022 13:20</td>\n",
              "      <td>ATV1</td>\n",
              "      <td>Michael Shoup</td>\n",
              "      <td>RFT00A/B/C/D</td>\n",
              "      <td>Bubbles in decals.</td>\n",
              "      <td>A26L</td>\n",
              "      <td>Incorrect Process</td>\n",
              "      <td>Production Team Leader</td>\n",
              "      <td>Before/After</td>\n",
              "      <td>Fixed</td>\n",
              "    </tr>\n",
              "    <tr>\n",
              "      <th>freq</th>\n",
              "      <td>3</td>\n",
              "      <td>233</td>\n",
              "      <td>191</td>\n",
              "      <td>232</td>\n",
              "      <td>6</td>\n",
              "      <td>14</td>\n",
              "      <td>103</td>\n",
              "      <td>168</td>\n",
              "      <td>229</td>\n",
              "      <td>161</td>\n",
              "    </tr>\n",
              "  </tbody>\n",
              "</table>\n",
              "</div>\n",
              "      <button class=\"colab-df-convert\" onclick=\"convertToInteractive('df-10616bf1-c0c4-473c-ba6e-1a7917efb2db')\"\n",
              "              title=\"Convert this dataframe to an interactive table.\"\n",
              "              style=\"display:none;\">\n",
              "        \n",
              "  <svg xmlns=\"http://www.w3.org/2000/svg\" height=\"24px\"viewBox=\"0 0 24 24\"\n",
              "       width=\"24px\">\n",
              "    <path d=\"M0 0h24v24H0V0z\" fill=\"none\"/>\n",
              "    <path d=\"M18.56 5.44l.94 2.06.94-2.06 2.06-.94-2.06-.94-.94-2.06-.94 2.06-2.06.94zm-11 1L8.5 8.5l.94-2.06 2.06-.94-2.06-.94L8.5 2.5l-.94 2.06-2.06.94zm10 10l.94 2.06.94-2.06 2.06-.94-2.06-.94-.94-2.06-.94 2.06-2.06.94z\"/><path d=\"M17.41 7.96l-1.37-1.37c-.4-.4-.92-.59-1.43-.59-.52 0-1.04.2-1.43.59L10.3 9.45l-7.72 7.72c-.78.78-.78 2.05 0 2.83L4 21.41c.39.39.9.59 1.41.59.51 0 1.02-.2 1.41-.59l7.78-7.78 2.81-2.81c.8-.78.8-2.07 0-2.86zM5.41 20L4 18.59l7.72-7.72 1.47 1.35L5.41 20z\"/>\n",
              "  </svg>\n",
              "      </button>\n",
              "      \n",
              "  <style>\n",
              "    .colab-df-container {\n",
              "      display:flex;\n",
              "      flex-wrap:wrap;\n",
              "      gap: 12px;\n",
              "    }\n",
              "\n",
              "    .colab-df-convert {\n",
              "      background-color: #E8F0FE;\n",
              "      border: none;\n",
              "      border-radius: 50%;\n",
              "      cursor: pointer;\n",
              "      display: none;\n",
              "      fill: #1967D2;\n",
              "      height: 32px;\n",
              "      padding: 0 0 0 0;\n",
              "      width: 32px;\n",
              "    }\n",
              "\n",
              "    .colab-df-convert:hover {\n",
              "      background-color: #E2EBFA;\n",
              "      box-shadow: 0px 1px 2px rgba(60, 64, 67, 0.3), 0px 1px 3px 1px rgba(60, 64, 67, 0.15);\n",
              "      fill: #174EA6;\n",
              "    }\n",
              "\n",
              "    [theme=dark] .colab-df-convert {\n",
              "      background-color: #3B4455;\n",
              "      fill: #D2E3FC;\n",
              "    }\n",
              "\n",
              "    [theme=dark] .colab-df-convert:hover {\n",
              "      background-color: #434B5C;\n",
              "      box-shadow: 0px 1px 3px 1px rgba(0, 0, 0, 0.15);\n",
              "      filter: drop-shadow(0px 1px 2px rgba(0, 0, 0, 0.3));\n",
              "      fill: #FFFFFF;\n",
              "    }\n",
              "  </style>\n",
              "\n",
              "      <script>\n",
              "        const buttonEl =\n",
              "          document.querySelector('#df-10616bf1-c0c4-473c-ba6e-1a7917efb2db button.colab-df-convert');\n",
              "        buttonEl.style.display =\n",
              "          google.colab.kernel.accessAllowed ? 'block' : 'none';\n",
              "\n",
              "        async function convertToInteractive(key) {\n",
              "          const element = document.querySelector('#df-10616bf1-c0c4-473c-ba6e-1a7917efb2db');\n",
              "          const dataTable =\n",
              "            await google.colab.kernel.invokeFunction('convertToInteractive',\n",
              "                                                     [key], {});\n",
              "          if (!dataTable) return;\n",
              "\n",
              "          const docLinkHtml = 'Like what you see? Visit the ' +\n",
              "            '<a target=\"_blank\" href=https://colab.research.google.com/notebooks/data_table.ipynb>data table notebook</a>'\n",
              "            + ' to learn more about interactive tables.';\n",
              "          element.innerHTML = '';\n",
              "          dataTable['output_type'] = 'display_data';\n",
              "          await google.colab.output.renderOutput(dataTable, element);\n",
              "          const docLink = document.createElement('div');\n",
              "          docLink.innerHTML = docLinkHtml;\n",
              "          element.appendChild(docLink);\n",
              "        }\n",
              "      </script>\n",
              "    </div>\n",
              "  </div>\n",
              "  "
            ]
          },
          "metadata": {},
          "execution_count": 5
        }
      ]
    },
    {
      "cell_type": "code",
      "source": [
        "data3 = data['3. Responsible Work Station'].unique()"
      ],
      "metadata": {
        "id": "9JlOI4TwykIa"
      },
      "execution_count": null,
      "outputs": []
    },
    {
      "cell_type": "code",
      "source": [
        "data3"
      ],
      "metadata": {
        "id": "WjVnQv7S572B",
        "outputId": "a42e5911-e32c-49a1-9c24-93e4c5430e85",
        "colab": {
          "base_uri": "https://localhost:8080/"
        }
      },
      "execution_count": null,
      "outputs": [
        {
          "output_type": "execute_result",
          "data": {
            "text/plain": [
              "array(['A07L', 'A11L', 'A24R', 'A26L', 'A04R', 'A25L', 'A15R', 'A06R',\n",
              "       'A25R', 'A19L', 'A15L', 'A10R', 'A28L', 'A14L', 'A32R', 'A13R',\n",
              "       'A36L', 'A05R', 'A32L', 'A21L', 'A02L', 'A03R', 'A24L', 'Welding',\n",
              "       'A10L', 'A09R', 'A12R', 'A02R', 'A18L', 'A22L', 'A15Rm', 'A20L',\n",
              "       'A09L', 'A22R', 'A26R', 'A06L', 'A30R', 'A29R', 'A16L', 'A01R',\n",
              "       'A10LB', 'A07R', 'A04Lb', 'A08L', 'A33L', 'A30L', 'A29L', '18R',\n",
              "       '30R', '15R', '15L & R', '2R', '23R', '7L', nan, '5R', '14L',\n",
              "       '12R', '8R', '23L', '26', 'a25r', 'a08l', 'a10r', '22R', 'a26r',\n",
              "       'A18R', '26R', '2L', '11L', 'Ao2R', 'O2L', 'a02r', 'A24', '25R',\n",
              "       'a26l', '15L', 'a35', 'a11l', 'a15r'], dtype=object)"
            ]
          },
          "metadata": {},
          "execution_count": 19
        }
      ]
    },
    {
      "cell_type": "code",
      "source": [
        "data['3. Responsible Work Station']=data['3. Responsible Work Station'].str.upper()"
      ],
      "metadata": {
        "id": "STPdcpwRCmO_"
      },
      "execution_count": null,
      "outputs": []
    },
    {
      "cell_type": "code",
      "source": [
        "data1 = data.groupby('3. Responsible Work Station').count()"
      ],
      "metadata": {
        "id": "rzySLP2U5rip"
      },
      "execution_count": null,
      "outputs": []
    },
    {
      "cell_type": "code",
      "source": [
        "fig = plt.figure(figsize=(30,9))\n",
        "ax = fig.add_axes([0,0,1,1])\n",
        "plt.xticks(rotation=45, fontsize=12)\n",
        "plt.yticks(fontsize=15)\n",
        "plt.title(\"Number of Defects by Work Station\", fontsize=20)\n",
        "ax.bar(data1.index,data1['2. Defect'])"
      ],
      "metadata": {
        "id": "28O1k9zl6HWr",
        "outputId": "2266f52a-accd-4702-b314-b0064287a048",
        "colab": {
          "base_uri": "https://localhost:8080/",
          "height": 638
        }
      },
      "execution_count": null,
      "outputs": [
        {
          "output_type": "execute_result",
          "data": {
            "text/plain": [
              "<BarContainer object of 71 artists>"
            ]
          },
          "metadata": {},
          "execution_count": 65
        },
        {
          "output_type": "display_data",
          "data": {
            "text/plain": [
              "<Figure size 2160x648 with 1 Axes>"
            ],
            "image/png": "[encoded data removed]"
          },
          "metadata": {
            "needs_background": "light"
          }
        }
      ]
    },
    {
      "cell_type": "code",
      "source": [
        "data2 = data1.sort_values(by='2. Defect', ascending=False)"
      ],
      "metadata": {
        "id": "wO-dH3e0WAgV"
      },
      "execution_count": null,
      "outputs": []
    },
    {
      "cell_type": "code",
      "source": [
        "fig = plt.figure(figsize=(30,9))\n",
        "ax = fig.add_axes([0,0,1,1])\n",
        "plt.xticks(rotation=45, fontsize=12)\n",
        "plt.yticks(fontsize=15)\n",
        "plt.title(\"Number of Defects by Work Station\", fontsize=20)\n",
        "ax.bar(data2.index,data2['2. Defect'], color = \"red\", alpha = 0.6)"
      ],
      "metadata": {
        "colab": {
          "base_uri": "https://localhost:8080/",
          "height": 638
        },
        "id": "X17jBGEdWcju",
        "outputId": "9b3c6d2b-9b94-43ad-8bb2-655b47eae4b5"
      },
      "execution_count": null,
      "outputs": [
        {
          "output_type": "execute_result",
          "data": {
            "text/plain": [
              "<BarContainer object of 71 artists>"
            ]
          },
          "metadata": {},
          "execution_count": 71
        },
        {
          "output_type": "display_data",
          "data": {
            "text/plain": [
              "<Figure size 2160x648 with 1 Axes>"
            ],
            "image/png": "[encoded data removed]"
          },
          "metadata": {
            "needs_background": "light"
          }
        }
      ]
    },
    {
      "cell_type": "markdown",
      "source": [
        "# New Section"
      ],
      "metadata": {
        "id": "rfZtb6ebxiT3"
      }
    }
  ]
}